{
 "cells": [
  {
   "cell_type": "code",
   "execution_count": null,
   "id": "6533997e-6368-4333-99d9-c7972a09f95b",
   "metadata": {},
   "outputs": [],
   "source": [
    "n= int(input(\"enter a number: \"))\n",
    "s=0\n",
    "while(n>0):\n",
    "    digit = n%10\n",
    "    s = s+digit\n",
    "    n = n//10\n",
    "print(\"sum of digits is :\",s)"
   ]
  },
  {
   "cell_type": "code",
   "execution_count": null,
   "id": "7a71f15f-96c7-428f-8560-ae28bb61d73f",
   "metadata": {},
   "outputs": [],
   "source": [
    "num = input(\"enter a number: \")\n",
    "prod = 1\n",
    "for i in num:\n",
    "    prod = prod*int(i)\n",
    "print (prod)\n",
    "\n",
    "\n"
   ]
  },
  {
   "cell_type": "code",
   "execution_count": null,
   "id": "388a2b15-dd01-445f-aafc-06ae5028a553",
   "metadata": {},
   "outputs": [],
   "source": [
    "sum_odd = 0\n",
    "\n",
    "for number in range(1, 51):\n",
    "    if number % 2 != 0: \n",
    "        sum_odd += number\n",
    "print(\"Sum of odd numbers :\", sum_odd)\n"
   ]
  },
  {
   "cell_type": "code",
   "execution_count": null,
   "id": "8d2289d9-8f10-4226-bd06-b08dd2539744",
   "metadata": {},
   "outputs": [],
   "source": [
    "sum_even = 0\n",
    "for i in range(1, 51):\n",
    "    if i % 2==0:\n",
    "        sum_even = sum_even+i\n",
    "print (\"sum of even numbers :\",sum_even)"
   ]
  },
  {
   "cell_type": "code",
   "execution_count": null,
   "id": "9dfa0515-2262-4ab8-bbbd-90ae68a2623f",
   "metadata": {},
   "outputs": [],
   "source": [
    "\n",
    "for number in range(1, 51):\n",
    "    if number % 2 == 0:\n",
    "        print(number)\n"
   ]
  },
  {
   "cell_type": "code",
   "execution_count": null,
   "id": "4203d06f-5dac-43a3-aef6-7ca3dd6e28da",
   "metadata": {},
   "outputs": [],
   "source": [
    "s = 0\n",
    "n =200\n",
    "for i in range(1,n,1):\n",
    "    s=s+i\n",
    "print(\"sum of  is\",s)"
   ]
  },
  {
   "cell_type": "code",
   "execution_count": null,
   "id": "2bb8d418-cd86-4578-b49b-723e88634cf6",
   "metadata": {},
   "outputs": [],
   "source": [
    "s = (100)\n",
    "n =0\n",
    "while(n>0):\n",
    "    last_digit = n%10\n",
    "    s=s*10+last_digit\n",
    "    n=n//10\n",
    "return s\n",
    "\n"
   ]
  },
  {
   "cell_type": "code",
   "execution_count": null,
   "id": "0a790793-b995-4545-b2a1-bea142df0178",
   "metadata": {},
   "outputs": [],
   "source": [
    "def reverse_number(n):\n",
    "    if n < 0:\n",
    "        return -int(str(n)[:0:-1])  \n",
    "    return int(str(n)[::-1])\n",
    "number = -12345\n",
    "reversed_number = reverse_number(number)\n",
    "print(reversed_number)  \n"
   ]
  },
  {
   "cell_type": "code",
   "execution_count": null,
   "id": "58b30485-a2a0-4823-a459-34abf48836ec",
   "metadata": {},
   "outputs": [],
   "source": [
    "s = int(input(\"enter a number\"))\n",
    "a = 1\n",
    "for i in range(1,s,1):\n",
    "    a=a*i\n",
    "print(\"factorial \",a)"
   ]
  },
  {
   "cell_type": "code",
   "execution_count": null,
   "id": "52a2995d-e061-4b2c-a93d-a4b9218edff5",
   "metadata": {},
   "outputs": [],
   "source": [
    "n = int(input(\"enter a number: \"))\n",
    "for i in range(1,n+1):\n",
    "    if n%i == 0:\n",
    "        print(i)\n"
   ]
  },
  {
   "cell_type": "code",
   "execution_count": null,
   "id": "9d5ee7c0-7e28-4050-baa2-55e0ded91bc4",
   "metadata": {},
   "outputs": [],
   "source": [
    "def sum_of_digits(n):\n",
    "    s = 0\n",
    "    while(n>0):\n",
    "        digit=n%10\n",
    "        s = s+digit\n",
    "        n =n//10\n",
    "    return s\n",
    "n = int(input(\"enter a number: \"))\n",
    "print(sum_of_digits(n))\n"
   ]
  },
  {
   "cell_type": "code",
   "execution_count": 11,
   "id": "c642baf0-61c5-4b93-a6b9-91fece91d4a1",
   "metadata": {},
   "outputs": [
    {
     "name": "stdin",
     "output_type": "stream",
     "text": [
      "enter a number : 10\n"
     ]
    },
    {
     "name": "stdout",
     "output_type": "stream",
     "text": [
      "[1, 2, 5, 10]\n"
     ]
    }
   ],
   "source": [
    "def factors(n):\n",
    "    factor_list=[]\n",
    "    for i in range (1,n+1):\n",
    "        if n%i==0:\n",
    "            factor_list.append(i)\n",
    "    return (factor_list)\n",
    "n=int(input(\"enter a number :\"))\n",
    "print(factors(n))"
   ]
  },
  {
   "cell_type": "code",
   "execution_count": 13,
   "id": "ef80808f-9762-403e-b219-93d51d0174fd",
   "metadata": {},
   "outputs": [
    {
     "name": "stdin",
     "output_type": "stream",
     "text": [
      "enter a number: 7\n"
     ]
    },
    {
     "name": "stdout",
     "output_type": "stream",
     "text": [
      "True\n"
     ]
    }
   ],
   "source": [
    "def prime(n):\n",
    "    return(factors(n)==[1,n])\n",
    "n=int(input(\"enter a number:\"))\n",
    "print(prime(n))\n"
   ]
  },
  {
   "cell_type": "code",
   "execution_count": null,
   "id": "2ab60cf8-f05b-4817-aa42-5ba83c2db62f",
   "metadata": {},
   "outputs": [],
   "source": []
  }
 ],
 "metadata": {
  "kernelspec": {
   "display_name": "Python [conda env:base] *",
   "language": "python",
   "name": "conda-base-py"
  },
  "language_info": {
   "codemirror_mode": {
    "name": "ipython",
    "version": 3
   },
   "file_extension": ".py",
   "mimetype": "text/x-python",
   "name": "python",
   "nbconvert_exporter": "python",
   "pygments_lexer": "ipython3",
   "version": "3.12.7"
  }
 },
 "nbformat": 4,
 "nbformat_minor": 5
}
