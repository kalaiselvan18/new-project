{
 "cells": [
  {
   "cell_type": "code",
   "execution_count": 11,
   "id": "bd9cb75c-c411-4df0-8ea6-c8a6bf7fde03",
   "metadata": {},
   "outputs": [
    {
     "name": "stdout",
     "output_type": "stream",
     "text": [
      "10\n"
     ]
    }
   ],
   "source": [
    "a=4\n",
    "b=3\n",
    "c=2\n",
    "d=1\n",
    "n=a+b+c+d\n",
    "print(n)\n",
    "\n"
   ]
  },
  {
   "cell_type": "code",
   "execution_count": 13,
   "id": "9599635c-2e8f-4f3e-b409-f49f31f73f53",
   "metadata": {},
   "outputs": [
    {
     "name": "stdin",
     "output_type": "stream",
     "text": [
      "enter a number:  3\n"
     ]
    },
    {
     "name": "stdout",
     "output_type": "stream",
     "text": [
      "sum of digits is : 3\n"
     ]
    }
   ],
   "source": [
    "n= int(input(\"enter a number: \"))\n",
    "s=0\n",
    "while(n>0):\n",
    "    digit = n%10\n",
    "    s = s+digit\n",
    "    n = n//10\n",
    "print(\"sum of digits is :\",s)\n"
   ]
  },
  {
   "cell_type": "code",
   "execution_count": null,
   "id": "e7598b80-21e3-4976-897d-97ee454daa83",
   "metadata": {},
   "outputs": [],
   "source": [
    "n= int(input(\"enter a number: \"))\n",
    "s=0\n",
    "while(n>0):\n",
    "    digit = n%10\n",
    "    s = s*digit\n",
    "    n = n//10\n",
    "print(\"sum of digits is :\",s)"
   ]
  },
  {
   "cell_type": "code",
   "execution_count": null,
   "id": "682fc4cb-edfc-4bbf-92ee-5577a2e6bb52",
   "metadata": {},
   "outputs": [],
   "source": []
  }
 ],
 "metadata": {
  "kernelspec": {
   "display_name": "Python [conda env:base] *",
   "language": "python",
   "name": "conda-base-py"
  },
  "language_info": {
   "codemirror_mode": {
    "name": "ipython",
    "version": 3
   },
   "file_extension": ".py",
   "mimetype": "text/x-python",
   "name": "python",
   "nbconvert_exporter": "python",
   "pygments_lexer": "ipython3",
   "version": "3.12.7"
  }
 },
 "nbformat": 4,
 "nbformat_minor": 5
}
